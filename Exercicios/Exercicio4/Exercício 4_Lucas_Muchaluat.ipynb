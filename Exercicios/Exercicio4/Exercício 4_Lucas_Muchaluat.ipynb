{
 "cells": [
  {
   "cell_type": "markdown",
   "metadata": {},
   "source": [
    "# ** Insper - Modelagem e Simulação do Mundo Físico**\n",
    "\n",
    "# ** Exercício 4**"
   ]
  },
  {
   "cell_type": "markdown",
   "metadata": {},
   "source": [
    "O objetivo deste exercício é que você se familiarize ainda mais com o Jupyter Notebook."
   ]
  },
  {
   "cell_type": "markdown",
   "metadata": {},
   "source": [
    "**Item 1.** Escreva uma sequência de instruções que calcule o valor da expressão abaixo. A ideia é que você entenda a diferença de escrever uma expressão matemática em Latex (a expressão abaixo é escrita em Latex) ou no Word, e calculá-la por meio de uma linguagem de programação. Sugerimos que você quebre a expressão em pelo menos duas variáveis intermediárias. \n",
    "\n",
    "\n",
    "\n",
    "\n",
    "# $$\\frac{e^{(\\frac{x-\\mu}{\\sigma \\cdot \\sqrt{2}})^2}}{\\sigma \\cdot \\sqrt{2 \\cdot \\pi}}$$\n",
    "\n",
    "\n",
    "\n",
    "Note que o numerador refere-se à função exponencial.\n",
    "Para o seu cálculo, use os seguintes valores:\n",
    "\n",
    "## $\\mu = -2$\n",
    "\n",
    "## $\\sigma = 0.5$\n",
    "\n",
    "## $x = -1$"
   ]
  },
  {
   "cell_type": "code",
   "execution_count": 18,
   "metadata": {},
   "outputs": [
    {
     "name": "stdout",
     "output_type": "stream",
     "text": [
      "5.895613780243012\n"
     ]
    }
   ],
   "source": [
    "#escreva seu código aqui\n",
    "import math\n",
    "u=-2\n",
    "o=0.5\n",
    "x=-1\n",
    "n=math.e**(((x-u)/(o*2**(1/2))**2))\n",
    "d=(o*(2*math.pi)**(1/2))\n",
    "print(n/d)\n"
   ]
  },
  {
   "cell_type": "markdown",
   "metadata": {},
   "source": [
    "**Item 2.** \n",
    "\n",
    "Neste exercício, vamos retomar a famosa sequência de Fibonacci, já introduzida no nosso curso. Talvez você já tenha lido ou ouvido algo sobre a história desse famoso matemático que, na verdade, se chamava Leonardo Pisano. Em seu livro Liber Abaci, que significa “O livro do ábaco”, publicado no século XIII, lia-se o subtítulo filius Bonacci (“filho de Bonacci”), em referência ao pai do autor, Guglielmo Bonaccio . Talvez Leonardo ficaria muito surpreso hoje se soubesse que é famoso e conhecido como Fibonacci, um nome que ele próprio nunca deve ter ouvido.\n",
    "\n",
    "Em Liber Abaci, além de advogar em favor da substituição dos algarismos romanos pelos algarismos arábicos, muito mais simples para fazer cálculos, Fibonacci (ou Leonardo) introduz sua famosa sequência para explicar a progressão da reprodução de coelhos. Como você irá perceber, a sequência de Fibonacci é reconhecida em diversas formações geométricas e naturais, como nas estruturas das conchas, nas flores, nas sequências de reprodução celular e até nas proporções do corpo humano.\n",
    "Retomando a atividade 2 do nosso segundo encontro, definimos a sequência de Fibonacci pela expressão:\n",
    "\n",
    "$F(t+2)=F(t+1)+F(t)$\n",
    "\n",
    "Geralmente, considerando que a série começa em t=1, são dados $F(1)=1$ e $F(2)=1$.\n",
    "\n",
    "Ou seja, a sequência seria 1,1,2,3,5,8,13,21,34,55…\n",
    "\n",
    "\n",
    "**a)** Implementando a sequência de Fibonacci\n",
    "\n",
    "Faça um código para gerar os primeiros N termos da sequência de Fibonacci. Para isso, você deverá implementar uma função que recebe a quantidade de termos a serem gerados (N) e retorna uma lista com os N primeiros termos da sequência de Fibonacci.\n"
   ]
  },
  {
   "cell_type": "code",
   "execution_count": 11,
   "metadata": {},
   "outputs": [],
   "source": [
    "#função que gera a sequência de Fibonacci\n",
    "def sequencia_fibo(n):\n",
    "    termos=[1,1]\n",
    "    i=2\n",
    "    if n==1:\n",
    "        del termos[1]\n",
    "    while n>2 and i<n:\n",
    "        termos.append(termos[-1]+termos[-2])\n",
    "        i+=1\n",
    "    return termos"
   ]
  },
  {
   "cell_type": "markdown",
   "metadata": {},
   "source": [
    "**b)** Assim que a função estiver pronta e funcional, implemente um código adicional com a chamada desta função para uma sequência de 20 termos (N=20) e plote um gráfico com essa sequência em função de N."
   ]
  },
  {
   "cell_type": "code",
   "execution_count": 15,
   "metadata": {},
   "outputs": [
    {
     "name": "stdout",
     "output_type": "stream",
     "text": [
      "[1, 1, 2, 3, 5, 8, 13, 21, 34, 55, 89, 144, 233, 377, 610, 987, 1597, 2584, 4181, 6765]\n"
     ]
    },
    {
     "data": {
      "image/png": "[encoded data removed]",
      "text/plain": [
       "<matplotlib.figure.Figure at 0x1104f6048>"
      ]
     },
     "metadata": {},
     "output_type": "display_data"
    }
   ],
   "source": [
    "#escreva seu código aqui\n",
    "#executa a função de Fibonacci para os 20 primeiros termos e gerar o gráfico\n",
    "import numpy as np\n",
    "import matplotlib.pyplot as plt\n",
    "\n",
    "x=sequencia_fibo(20)\n",
    "print(x)\n",
    "N=np.arange(0,20,1)\n",
    "\n",
    "\n",
    "plt.plot(N, x, 'ro')\n",
    "plt.xlabel(\"N\")\n",
    "plt.ylabel(\"termos\")\n",
    "plt.grid(True)\n",
    "plt.show()\n",
    "\n"
   ]
  },
  {
   "cell_type": "markdown",
   "metadata": {},
   "source": [
    "**c)** Agora voltemos ao seu código. Adicione mais uma implementação que calcule, para uma sequência de 100 termos de Fibonacci, a razão entre dois termos consecutivos da sequência, ou seja, $r(t)=\\frac{r(t+1)}{r(t)}$ . No seu código, as razões r(t) devem ser armazenadas em uma lista. Note que, se sua lista de Fibonacci tem 100 termos, a lista de razões deverá conter 99 termos. Se não entendeu porque, faça um exercício no papel para 10 termos e ficará claro que teremos apenas 9 razões (teremos sempre N-1 razões para uma lista de N termos). Agora plote o gráfico da série de razões r(t)."
   ]
  },
  {
   "cell_type": "code",
   "execution_count": 16,
   "metadata": {},
   "outputs": [
    {
     "name": "stdout",
     "output_type": "stream",
     "text": [
      "[1.0, 2.0, 1.5, 1.6666666666666667, 1.6, 1.625, 1.6153846153846154, 1.619047619047619, 1.6176470588235294, 1.6181818181818182, 1.6179775280898876, 1.6180555555555556, 1.6180257510729614, 1.6180371352785146, 1.618032786885246, 1.618034447821682, 1.6180338134001253, 1.618034055727554, 1.6180339631667064, 1.6180339985218033, 1.618033985017358, 1.6180339901755971, 1.618033988205325, 1.618033988957902, 1.6180339886704431, 1.6180339887802426, 1.618033988738303, 1.6180339887543225, 1.6180339887482036, 1.6180339887505408, 1.6180339887496482, 1.618033988749989, 1.618033988749859, 1.6180339887499087, 1.6180339887498896, 1.618033988749897, 1.618033988749894, 1.6180339887498951, 1.6180339887498947, 1.618033988749895, 1.618033988749895, 1.618033988749895, 1.618033988749895, 1.618033988749895, 1.618033988749895, 1.618033988749895, 1.618033988749895, 1.618033988749895, 1.618033988749895, 1.618033988749895, 1.618033988749895, 1.618033988749895, 1.618033988749895, 1.618033988749895, 1.618033988749895, 1.618033988749895, 1.618033988749895, 1.618033988749895, 1.618033988749895, 1.618033988749895, 1.618033988749895, 1.618033988749895, 1.618033988749895, 1.618033988749895, 1.618033988749895, 1.618033988749895, 1.618033988749895, 1.618033988749895, 1.618033988749895, 1.618033988749895, 1.618033988749895, 1.618033988749895, 1.618033988749895, 1.618033988749895, 1.618033988749895, 1.618033988749895, 1.618033988749895, 1.618033988749895, 1.618033988749895, 1.618033988749895, 1.618033988749895, 1.618033988749895, 1.618033988749895, 1.618033988749895, 1.618033988749895, 1.618033988749895, 1.618033988749895, 1.618033988749895, 1.618033988749895, 1.618033988749895, 1.618033988749895, 1.618033988749895, 1.618033988749895, 1.618033988749895, 1.618033988749895, 1.618033988749895, 1.618033988749895, 1.618033988749895, 1.618033988749895]\n"
     ]
    },
    {
     "data": {
      "image/png": "[encoded data removed]",
      "text/plain": [
       "<matplotlib.figure.Figure at 0x1104f60b8>"
      ]
     },
     "metadata": {},
     "output_type": "display_data"
    }
   ],
   "source": [
    "#escreva seu código aqui\n",
    "#calcula razão entre dois termos consecutivos da sequência e gera o gráfico\n",
    "import matplotlib.pyplot as plt\n",
    "x=sequencia_fibo(100)\n",
    "razao=[]\n",
    "i=0\n",
    "while i<99:\n",
    "    razao.append(x[i+1]/x[i])\n",
    "    i+=1\n",
    "print(razao)\n",
    "\n",
    "plt.plot(razao)\n",
    "plt.show()\n"
   ]
  },
  {
   "cell_type": "markdown",
   "metadata": {},
   "source": [
    "Que número você obteve? Aproximadamente 1,618?\n",
    "\n",
    "Agora considere um segmento de reta dividido em duas partes a e b tal que a > b.\n",
    "\n",
    "Vamos definir uma proporção r de tal forma que:\n",
    "\n",
    "$r=\\frac{a}{b}=\\frac{a+b}{a}$\n",
    "\n",
    "Ou seja, queremos um $r$ que é, ao mesmo tempo, a razão do maior segmento sobre o menor, e a razão da soma dos dois sobre o maior. Será que existe tal $r$? Desenvolvendo o termo à direita da equação, temos:\n",
    "\n",
    "$\\frac{a+b}{a}=\\frac{a}{a}+\\frac{b}{a}=1+\\frac{b}{a}$\n",
    "\n",
    "Que resulta em:\n",
    "\n",
    "$r=1+\\frac{1}{r}$\n",
    "\n",
    "Ou ainda, podemos escrever: \n",
    "\n",
    "$r-1=\\frac{1}{r}$\n",
    "\n",
    "Vejamos que interessante: definimos um número r que, ao ser subtraído de 1, o resultado é o seu inverso. \n",
    "Retomando nossa equação, ao multiplicarmos ambos os lados por $r$, teremos:\n",
    "\n",
    "$r^2-r=1$\n",
    "\n",
    "**d)** Resolva essa equação de segundo grau e calcule os valores de r. Por se tratar de uma equação de segundo grau, esperamos encontrar duas raízes. É claro que aqui você poderia usar a fórmula de Bháskara, mas talvez fosse mais interessante utilizar a função “roots” da biblioteca numpy. Essa função retorna as raízes de um polinômio de grau $n$. Para o nosso caso, bastaria usar o comando numpy.roots([1,-1,-1]).\n",
    "\n",
    "Quais valores você encontrou para r? Achou intrigante?\n",
    "\n",
    "Se quiser saber mais, basta digitar Fibonacci e Golden Ratio no Youtube.\n",
    "\n",
    "Divirta-se!"
   ]
  },
  {
   "cell_type": "code",
   "execution_count": 5,
   "metadata": {},
   "outputs": [
    {
     "data": {
      "text/plain": [
       "array([ 1.61803399, -0.61803399])"
      ]
     },
     "execution_count": 5,
     "metadata": {},
     "output_type": "execute_result"
    }
   ],
   "source": [
    "#escreva seu código aqui\n",
    "numpy.roots([1,-1,-1])\n"
   ]
  },
  {
   "cell_type": "code",
   "execution_count": null,
   "metadata": {},
   "outputs": [],
   "source": []
  },
  {
   "cell_type": "code",
   "execution_count": null,
   "metadata": {},
   "outputs": [],
   "source": []
  }
 ],
 "metadata": {
  "kernelspec": {
   "display_name": "Python 3",
   "language": "python",
   "name": "python3"
  },
  "language_info": {
   "codemirror_mode": {
    "name": "ipython",
    "version": 3
   },
   "file_extension": ".py",
   "mimetype": "text/x-python",
   "name": "python",
   "nbconvert_exporter": "python",
   "pygments_lexer": "ipython3",
   "version": "3.6.4"
  }
 },
 "nbformat": 4,
 "nbformat_minor": 1
}
