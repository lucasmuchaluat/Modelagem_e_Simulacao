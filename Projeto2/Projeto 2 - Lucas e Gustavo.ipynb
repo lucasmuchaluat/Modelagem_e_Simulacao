{
 "cells": [
  {
   "cell_type": "code",
   "execution_count": 4,
   "metadata": {},
   "outputs": [],
   "source": [
    "#massa do veículo HB20 - 16.5kg\n",
    "mpneu=16.5\n",
    "#densidade do ar\n",
    "do=1.2013\n",
    "#volume do ar no pneu (Litros)\n",
    "vo=10\n",
    "#massa do ar no pneu\n",
    "mar=do*vo\n",
    "#raio do pneu aro 14 - 24.25cm -> 0.2425m\n",
    "raio=0.2425\n",
    "#velocidade angular de rotação do pneu do carro (rad/s)\n",
    "w=123.7\n",
    "#velocidade média do carro - 108km/h -> 30m/s\n",
    "v=30\n",
    "#Área da superfície da borracha (m2) - pneu de aro 14 - 2665,075 cm2 -> 0.2665075 m2\n",
    "Ab=0.2665075\n",
    "#Temperatura da borracha\n",
    "Tb=20+273.15\n",
    "#coeficiente de transferência convectiva do ar - W/m2*K\n",
    "hconv=8.05\n",
    "#Temperatura ambiente\n",
    "Tar=20+273.15\n",
    "#calor específico do ar - kJ/kg*K\n",
    "car=1012\n",
    "#calor específico da borracha - kJ/kg*K\n",
    "cpneu=1590\n",
    "#984"
   ]
  },
  {
   "cell_type": "code",
   "execution_count": 5,
   "metadata": {},
   "outputs": [],
   "source": [
    "def EquacoesDiferenciais(Y0,t):\n",
    "    T0=Y0[0]\n",
    "    t0=Y0[1]\n",
    "    \n",
    "    Qatrito = 0.2*(mpneu*(w**2))/2 #20% da Ec convertida em Et\n",
    "    Qext = hconv * Ab * (T0 - Tar) #fluxo de calor da borracha pro ar externo ao pneu por convecção\n",
    "    Qint = hconv * Ab * (T0 - t0) #fluxo de calor da borracha pro ar interno ao pneu por convecção\n",
    "    \n",
    "    dT0dt = (1/mpneu*cpneu)  * (Qatrito - Qext - Qint) #Temperatura da borracha\n",
    "    dt0dt = (1/mar*car) * Qint #Temperatura do ar interno\n",
    "    \n",
    "    return [dT0dt,dt0dt]"
   ]
  },
  {
   "cell_type": "code",
   "execution_count": 6,
   "metadata": {},
   "outputs": [
    {
     "data": {
      "image/png": "[encoded data removed]",
      "text/plain": [
       "<matplotlib.figure.Figure at 0x1515425438>"
      ]
     },
     "metadata": {},
     "output_type": "display_data"
    }
   ],
   "source": [
    "from scipy.integrate import odeint\n",
    "import matplotlib.pyplot as plt\n",
    "import numpy as np\n",
    "\n",
    "lista_tempo=np.arange(0,3600,0.1)\n",
    "Y0=[20+273.15,20+273.15]\n",
    "\n",
    "Solucao=odeint(EquacoesDiferenciais,Y0,lista_tempo)\n",
    "\n",
    "plt.figure(figsize = [14, 6])\n",
    "#plt.plot(lista_tempo/3600, Solucao,'b', label=\"T ar interno\")\n",
    "plt.plot(lista_tempo/60, Solucao[:, 0],'b', label=\"Temperatura Borracha\") \n",
    "plt.plot(lista_tempo/60, Solucao[:, 1],'r', label=\"Temperatura Ar Interno\")\n",
    "plt.ylabel('Temperaturas (K)')\n",
    "plt.xlabel('t(min)')\n",
    "plt.title('Solução da Equação Diferencial')\n",
    "plt.grid(True)\n",
    "plt.show()"
   ]
  },
  {
   "cell_type": "code",
   "execution_count": null,
   "metadata": {},
   "outputs": [],
   "source": []
  }
 ],
 "metadata": {
  "kernelspec": {
   "display_name": "Python 3",
   "language": "python",
   "name": "python3"
  },
  "language_info": {
   "codemirror_mode": {
    "name": "ipython",
    "version": 3
   },
   "file_extension": ".py",
   "mimetype": "text/x-python",
   "name": "python",
   "nbconvert_exporter": "python",
   "pygments_lexer": "ipython3",
   "version": "3.6.4"
  }
 },
 "nbformat": 4,
 "nbformat_minor": 2
}
